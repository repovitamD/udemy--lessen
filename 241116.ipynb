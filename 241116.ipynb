{
  "nbformat": 4,
  "nbformat_minor": 0,
  "metadata": {
    "colab": {
      "provenance": [],
      "authorship_tag": "ABX9TyNPq5pErvfgVsGH6WuFUFoX",
      "include_colab_link": true
    },
    "kernelspec": {
      "name": "python3",
      "display_name": "Python 3"
    },
    "language_info": {
      "name": "python"
    }
  },
  "cells": [
    {
      "cell_type": "markdown",
      "metadata": {
        "id": "view-in-github",
        "colab_type": "text"
      },
      "source": [
        "<a href=\"https://colab.research.google.com/github/repovitamD/udemy--lessen/blob/main/241116.ipynb\" target=\"_parent\"><img src=\"https://colab.research.google.com/assets/colab-badge.svg\" alt=\"Open In Colab\"/></a>"
      ]
    },
    {
      "cell_type": "markdown",
      "source": [
        "データの読み込み"
      ],
      "metadata": {
        "id": "RN5RVss5CDUY"
      }
    },
    {
      "cell_type": "code",
      "source": [
        "import numpy as np"
      ],
      "metadata": {
        "id": "YEvq8jKjCIVS"
      },
      "execution_count": 1,
      "outputs": []
    },
    {
      "cell_type": "code",
      "source": [
        "from sklearn import datasets"
      ],
      "metadata": {
        "id": "ZAmTXNu_CM3q"
      },
      "execution_count": 3,
      "outputs": []
    },
    {
      "cell_type": "code",
      "source": [
        "iris = datasets.load_iris()"
      ],
      "metadata": {
        "id": "5JR6NKrMCuUV"
      },
      "execution_count": 4,
      "outputs": []
    },
    {
      "cell_type": "code",
      "source": [
        "print(iris.data[:10])\n",
        "print(iris.target[:10])\n",
        "print(iris.data.shape)"
      ],
      "metadata": {
        "colab": {
          "base_uri": "https://localhost:8080/"
        },
        "id": "ZrlJNYc1C27i",
        "outputId": "b94e42e7-092b-4a95-c948-86a068c313ac"
      },
      "execution_count": 6,
      "outputs": [
        {
          "output_type": "stream",
          "name": "stdout",
          "text": [
            "[[5.1 3.5 1.4 0.2]\n",
            " [4.9 3.  1.4 0.2]\n",
            " [4.7 3.2 1.3 0.2]\n",
            " [4.6 3.1 1.5 0.2]\n",
            " [5.  3.6 1.4 0.2]\n",
            " [5.4 3.9 1.7 0.4]\n",
            " [4.6 3.4 1.4 0.3]\n",
            " [5.  3.4 1.5 0.2]\n",
            " [4.4 2.9 1.4 0.2]\n",
            " [4.9 3.1 1.5 0.1]]\n",
            "[0 0 0 0 0 0 0 0 0 0]\n",
            "(150, 4)\n"
          ]
        }
      ]
    },
    {
      "cell_type": "markdown",
      "source": [
        "データの前処理"
      ],
      "metadata": {
        "id": "Fa2jl07SDoTL"
      }
    },
    {
      "cell_type": "code",
      "source": [
        "from sklearn import preprocessing"
      ],
      "metadata": {
        "id": "CnUpBgK1C9V6"
      },
      "execution_count": 7,
      "outputs": []
    },
    {
      "cell_type": "code",
      "source": [
        "from keras.utils import to_categorical"
      ],
      "metadata": {
        "id": "IAf_Hu9dDuj8"
      },
      "execution_count": 9,
      "outputs": []
    },
    {
      "cell_type": "code",
      "source": [
        "#データの標準化を実施。\n",
        "#まずはメソッドを読み込んで、\n",
        "scaler = preprocessing.StandardScaler()\n",
        "#メソッドにirisデータセットを処理させる。\n",
        "scaler.fit(iris.data)\n",
        "\n",
        "x=scaler.transform(iris.data)\n",
        "print(x[:10])\n",
        "\n",
        "t=to_categorical(iris.target)\n",
        "print(t[:10])\n",
        "#正解ラベルは0,1,2だが、ワンホット表現に変換されるので0ならば100、1ならば010、2ならば001となる。"
      ],
      "metadata": {
        "colab": {
          "base_uri": "https://localhost:8080/"
        },
        "id": "aWm0RZXXDxY2",
        "outputId": "a9cb936c-6e55-4d60-e766-f82875d70cec"
      },
      "execution_count": 14,
      "outputs": [
        {
          "output_type": "stream",
          "name": "stdout",
          "text": [
            "[[-0.90068117  1.01900435 -1.34022653 -1.3154443 ]\n",
            " [-1.14301691 -0.13197948 -1.34022653 -1.3154443 ]\n",
            " [-1.38535265  0.32841405 -1.39706395 -1.3154443 ]\n",
            " [-1.50652052  0.09821729 -1.2833891  -1.3154443 ]\n",
            " [-1.02184904  1.24920112 -1.34022653 -1.3154443 ]\n",
            " [-0.53717756  1.93979142 -1.16971425 -1.05217993]\n",
            " [-1.50652052  0.78880759 -1.34022653 -1.18381211]\n",
            " [-1.02184904  0.78880759 -1.2833891  -1.3154443 ]\n",
            " [-1.74885626 -0.36217625 -1.34022653 -1.3154443 ]\n",
            " [-1.14301691  0.09821729 -1.2833891  -1.44707648]]\n",
            "[[1. 0. 0.]\n",
            " [1. 0. 0.]\n",
            " [1. 0. 0.]\n",
            " [1. 0. 0.]\n",
            " [1. 0. 0.]\n",
            " [1. 0. 0.]\n",
            " [1. 0. 0.]\n",
            " [1. 0. 0.]\n",
            " [1. 0. 0.]\n",
            " [1. 0. 0.]]\n"
          ]
        }
      ]
    },
    {
      "cell_type": "markdown",
      "source": [
        "訓練データとテストデータに分割する。"
      ],
      "metadata": {
        "id": "GEK0W4DlQ05s"
      }
    },
    {
      "cell_type": "code",
      "source": [
        "from sklearn.model_selection import train_test_split"
      ],
      "metadata": {
        "id": "6cmxinvuQFIp"
      },
      "execution_count": 15,
      "outputs": []
    },
    {
      "cell_type": "code",
      "source": [
        "x_train, x_test, t_train, t_test = train_test_split(x,t,train_size=0.75)"
      ],
      "metadata": {
        "id": "lsgRu5RYR9I3"
      },
      "execution_count": 16,
      "outputs": []
    },
    {
      "cell_type": "code",
      "source": [
        "print(x_train.shape)"
      ],
      "metadata": {
        "colab": {
          "base_uri": "https://localhost:8080/"
        },
        "id": "KLBuOr33SLD9",
        "outputId": "53f81152-d415-4952-e0e2-a365691ce429"
      },
      "execution_count": 17,
      "outputs": [
        {
          "output_type": "stream",
          "name": "stdout",
          "text": [
            "(112, 4)\n"
          ]
        }
      ]
    },
    {
      "cell_type": "markdown",
      "source": [
        "モデルの構築"
      ],
      "metadata": {
        "id": "9ubJrf7LUvFH"
      }
    },
    {
      "cell_type": "code",
      "source": [
        "from keras.models import Sequential\n",
        "#Sequentialモデルは、層を順に積み重ねることでモデルを構築するための方法で、シンプルなネットワーク構造に適しています。\n",
        "#一方、Functional APIを使用したモデル構築方法は、より複雑なモデルアーキテクチャに対応可能で、多入力、多出力、共有層を持つモデルの構築が可能です。"
      ],
      "metadata": {
        "id": "93ixJabnSSvg"
      },
      "execution_count": 20,
      "outputs": []
    },
    {
      "cell_type": "code",
      "source": [
        "from keras.layers import Dense, Activation\n",
        "#Denseレイヤーは、全結合層(全結合ニューラルネットワーク)の基本的な構成要素であり、\n",
        "#各入力ニューロンが次のレイヤーのすべてのニューロンに接続されている、いわゆる全結合層（Fully Connected Layer）です。\n",
        "\n",
        "#全結合層（fully connected layer）はニューラルネットワークの層の一種で、各ニューロンが前の層のすべてのニューロンと接続されている層を指します。\n"
      ],
      "metadata": {
        "id": "Nfn2j3ywU1-Y"
      },
      "execution_count": 22,
      "outputs": []
    },
    {
      "cell_type": "code",
      "source": [
        "model=Sequential()\n",
        "model.add(Dense(32, input_dim=4))\n",
        "#32のノードを持つ全結合層を追加した。また、入力数が4つであると指定した。irisデータが4つの数値が一つの花を示すためである。"
      ],
      "metadata": {
        "id": "ojrHYBRqU7PI"
      },
      "execution_count": null,
      "outputs": []
    },
    {
      "cell_type": "code",
      "source": [],
      "metadata": {
        "id": "HVvtMPkyckqB"
      },
      "execution_count": null,
      "outputs": []
    }
  ]
}